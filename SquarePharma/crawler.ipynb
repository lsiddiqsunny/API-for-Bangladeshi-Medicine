{
 "metadata": {
  "language_info": {
   "codemirror_mode": {
    "name": "ipython",
    "version": 3
   },
   "file_extension": ".py",
   "mimetype": "text/x-python",
   "name": "python",
   "nbconvert_exporter": "python",
   "pygments_lexer": "ipython3",
   "version": 3
  },
  "orig_nbformat": 2,
  "kernelspec": {
   "name": "python_defaultSpec_1596651379283",
   "display_name": "Python 3.7.3 64-bit ('deep-learning': conda)"
  }
 },
 "nbformat": 4,
 "nbformat_minor": 2,
 "cells": [
  {
   "cell_type": "markdown",
   "metadata": {},
   "source": [
    "Import libraries"
   ]
  },
  {
   "cell_type": "code",
   "execution_count": 14,
   "metadata": {},
   "outputs": [],
   "source": [
    "import pandas as pd\n",
    "from urllib.request import urlopen\n",
    "from bs4 import BeautifulSoup"
   ]
  },
  {
   "cell_type": "markdown",
   "metadata": {},
   "source": [
    "Get the page links"
   ]
  },
  {
   "cell_type": "code",
   "execution_count": 15,
   "metadata": {
    "tags": []
   },
   "outputs": [
    {
     "output_type": "stream",
     "name": "stdout",
     "text": "['A', 'B', 'C', 'D', 'E', 'F', 'G', 'H', 'I', 'K', 'L', 'M', 'N', 'O', 'P', 'Q', 'R', 'S', 'T', 'U', 'V', 'X', 'Z']\n"
    }
   ],
   "source": [
    "url = \"http://www.squarepharma.com.bd/products-by-generic.php?type=pharma&char=A\"\n",
    "html = urlopen(url)\n",
    "soup = BeautifulSoup(html, 'html')\n",
    "\n",
    "link_list=[chr(i) for i in range(ord('A'), ord('Z')+1)]\n",
    "\n",
    "pages = [i.text for i in soup.find_all('a') if i.text in link_list]\n",
    "print(pages)"
   ]
  },
  {
   "cell_type": "markdown",
   "metadata": {},
   "source": [
    "Crawling the web pages for gathering the generic name of the medicine."
   ]
  },
  {
   "cell_type": "code",
   "execution_count": 16,
   "metadata": {
    "tags": []
   },
   "outputs": [
    {
     "output_type": "stream",
     "name": "stdout",
     "text": "Flexi®\nDone!\n"
    }
   ],
   "source": [
    "generic=[]\n",
    "name=[]\n",
    "description=[]\n",
    "indication =[]\n",
    "dosage =[]\n",
    "preparation = []\n",
    "for cp in range(len(pages)):\n",
    "    url = \"http://www.squarepharma.com.bd/products-by-generic.php?type=pharma&char=\" + pages[0]\n",
    "    html = urlopen(url)\n",
    "    soup = BeautifulSoup(html, 'html')\n",
    "    divs = soup.findAll('div', attrs={'class' : 'col-xs-12 col-sm-4 col-md-4 col-lg-4'})\n",
    "    links = []\n",
    "    for div in divs:\n",
    "        if 'product-details.php?pid=' in div.a['href']:\n",
    "            links.append(div.a['href'])\n",
    "    divs = [i.text for i in soup.find_all(class_='col-xs-12 col-sm-4 col-md-4 col-lg-4')]\n",
    "\n",
    "    for i in range(len(divs)):\n",
    "        descriptions = divs[i].split(\"\\n\")\n",
    "        descriptions = [descrip for descrip in descriptions if (len (descrip) > 0 and descrip!='Find More') ]\n",
    "        \n",
    "        if len(descriptions)==3:\n",
    "            generic.append(descriptions[0])\n",
    "            name.append(descriptions[1])\n",
    "            description.append(descriptions[2])\n",
    "\n",
    "            url = \"http://www.squarepharma.com.bd/\" + links[i]\n",
    "            html = urlopen(url)\n",
    "            soup = BeautifulSoup(html, 'html')\n",
    "            info = [i.text for i in soup.findAll('t')]\n",
    "            if len(info)>=1:\n",
    "                indication.append(info[0])\n",
    "            if len(info)>=2:\n",
    "                dosage.append(info[1])\n",
    "            else:\n",
    "                dosage.append(None)\n",
    "            if len(info)>=3:\n",
    "                preparation.append(info[2])\n",
    "            else:\n",
    "                preparation.append(None)\n",
    "            \n",
    "\n",
    "print (\"Done!\")"
   ]
  },
  {
   "cell_type": "markdown",
   "metadata": {},
   "source": [
    "Save the info in a CSV"
   ]
  },
  {
   "cell_type": "code",
   "execution_count": null,
   "metadata": {},
   "outputs": [],
   "source": [
    "cdata = {\"Generic\":generic,\"Name\":name,\"Description\":description,\"Indication\":indication,\"Dosage\":dosage,\"Preparation\":preparation}\n",
    "df = pd.DataFrame(data = cdata)\n",
    "df.to_csv(\"medicine.csv\", header=True, index=False)"
   ]
  }
 ]
}