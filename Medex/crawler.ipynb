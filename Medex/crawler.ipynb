{
 "metadata": {
  "language_info": {
   "codemirror_mode": {
    "name": "ipython",
    "version": 3
   },
   "file_extension": ".py",
   "mimetype": "text/x-python",
   "name": "python",
   "nbconvert_exporter": "python",
   "pygments_lexer": "ipython3",
   "version": 3
  },
  "orig_nbformat": 2,
  "kernelspec": {
   "name": "python_defaultSpec_1596662863997",
   "display_name": "Python 3.7.3 64-bit ('deep-learning': conda)"
  }
 },
 "nbformat": 4,
 "nbformat_minor": 2,
 "cells": [
  {
   "cell_type": "markdown",
   "metadata": {},
   "source": [
    "Import libraries"
   ]
  },
  {
   "cell_type": "code",
   "execution_count": null,
   "metadata": {},
   "outputs": [],
   "source": [
    "import pandas as pd\n",
    "from urllib.request import urlopen\n",
    "from bs4 import BeautifulSoup"
   ]
  },
  {
   "cell_type": "markdown",
   "metadata": {},
   "source": [
    "Crawling the web pages for gathering the generic name of the medicine."
   ]
  },
  {
   "cell_type": "code",
   "execution_count": null,
   "metadata": {
    "tags": []
   },
   "outputs": [],
   "source": [
    "\n",
    "name=[]\n",
    "stength= []\n",
    "company=[]\n",
    "generic= []\n",
    "price= []\n",
    "for cp in range(632):\n",
    "    print(\"For \"+str(cp+1)+\": \")\n",
    "    url = \"https://medex.com.bd/brands?page=\" + str(cp+1)\n",
    "    html = urlopen(url)\n",
    "    soup = BeautifulSoup(html, 'html')\n",
    "    divs = soup.findAll('div', attrs={'class' : 'row data-row'})\n",
    "    for n in range(len(divs)):\n",
    "        query = divs[n].findAll('div',attrs={'class' : 'col-xs-12 data-row-top'})\n",
    "        if query is not None and len(query)>0:\n",
    "            #print(first)\n",
    "            query = str(query).split(\">\")\n",
    "            query= [x for x in query if x] \n",
    "            #print(first)\n",
    "            query_len = len(query)\n",
    "            if query_len>=2:\n",
    "                name.append(query[query_len-2].split(\"\\n\")[0].strip())\n",
    "            else:\n",
    "                name.append(None)\n",
    "        else:\n",
    "            name.append(None)\n",
    "\n",
    "        query = [i.text for i in divs[n].findAll('span',attrs={'class' : 'grey-ligten'}) if i]\n",
    "        if query is not None and len(query)>0:\n",
    "            stength.append(query[0])\n",
    "        else:\n",
    "            stength.append(None)\n",
    "\n",
    "        query = divs[n].findAll('div',attrs={'class' : 'col-xs-12'})\n",
    "        if query is not None and len(query)>=3:\n",
    "            generic.append(query[2].text.strip())\n",
    "        else:\n",
    "            generic.append(None)\n",
    "\n",
    "\n",
    "        query = [i.text for i in divs[n].findAll('span',attrs={'class' : 'data-row-company'}) if i]\n",
    "        if query is not None and len(query)>0:\n",
    "            company.append(query[0])\n",
    "        else:\n",
    "            company.append(None)\n",
    "\n",
    "        query = divs[n].find('span',attrs={'class' : 'package-pricing'})\n",
    "        if query is not None and len(query)>=2:\n",
    "            price.append(query.text.split(\"৳\")[1].strip())\n",
    "        else:\n",
    "            price.append(None)\n",
    "\n",
    "\n",
    "            \n",
    "print (\"Done!\")"
   ]
  },
  {
   "cell_type": "markdown",
   "metadata": {},
   "source": [
    "Save the info in a CSV"
   ]
  },
  {
   "cell_type": "code",
   "execution_count": null,
   "metadata": {},
   "outputs": [],
   "source": [
    "cdata = {\"Generic\":generic,\"Name\":name,\"Company\":company,\"Strength\":stength,\"Price\":price}\n",
    "df = pd.DataFrame(data = cdata)\n",
    "df.to_csv(\"medicine.csv\", header=True, index=False)"
   ]
  }
 ]
}